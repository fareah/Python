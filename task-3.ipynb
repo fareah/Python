{
 "cells": [
  {
   "cell_type": "code",
   "execution_count": 1,
   "id": "d4b3cc8f",
   "metadata": {},
   "outputs": [
    {
     "name": "stdout",
     "output_type": "stream",
     "text": [
      "Enter items in list 3 5 6 8 45 2 0\n",
      "Smallest item is 0\n"
     ]
    }
   ],
   "source": [
    " li= [int(x) for x in input(\"Enter items in list \").split()]\n",
    "print(\"Smallest item is\", min(li))"
   ]
  },
  {
   "cell_type": "code",
   "execution_count": 2,
   "id": "22908c3d",
   "metadata": {},
   "outputs": [
    {
     "name": "stdout",
     "output_type": "stream",
     "text": [
      "Enter items in list \n",
      "The list is empty\n"
     ]
    }
   ],
   "source": [
    "li = [int(x) for x in input(\"Enter items in list \").split()]\n",
    "if len(li) != 0:\n",
    "    print(\"The list is not empty\")\n",
    "else:\n",
    "    print(\"The list is empty\")"
   ]
  },
  {
   "cell_type": "code",
   "execution_count": 5,
   "id": "e56cdba3",
   "metadata": {},
   "outputs": [
    {
     "name": "stdout",
     "output_type": "stream",
     "text": [
      "Enter items in list 1 34 45 56 67\n",
      "Enter items in list 2 34 56 67 44\n",
      "Atleast One Common Element is Present\n"
     ]
    }
   ],
   "source": [
    "list1 = [int(x) for x in input(\"Enter items in list 1 \").split()]\n",
    "list2 = [int(x) for x in input(\"Enter items in list 2 \").split()]\n",
    "result = False\n",
    "for x in list1:\n",
    "    for y in list2:\n",
    "        if x == y:\n",
    "            result = True\n",
    "            break\n",
    "if result == True:\n",
    "    print(\"Atleast One Common Element is Present\")\n",
    "else:\n",
    "    print(\"No Common Element Present\")"
   ]
  },
  {
   "cell_type": "code",
   "execution_count": 7,
   "id": "908cebd3",
   "metadata": {},
   "outputs": [
    {
     "name": "stdout",
     "output_type": "stream",
     "text": [
      "Enter the list 1 items : fareah\n",
      "Enter the list 2 items : rahman\n",
      "['fareah', 'rahman']\n"
     ]
    }
   ],
   "source": [
    "list1 = [x for x in input(\"Enter the list 1 items : \").split()]\n",
    "list2 = [x for x in input(\"Enter the list 2 items : \").split()]\n",
    "LIST = list1+list2\n",
    "print(LIST)"
   ]
  },
  {
   "cell_type": "code",
   "execution_count": 9,
   "id": "5d0d5add",
   "metadata": {},
   "outputs": [
    {
     "name": "stdout",
     "output_type": "stream",
     "text": [
      "Enter the list items : 34 23 45 67 78 34 56 90 \n",
      "['23', '45', '67', '56', '90']\n"
     ]
    }
   ],
   "source": [
    "li = [x for x in input(\"Enter the list items : \").split()]\n",
    "loc = [0, 4, 5]\n",
    "li = [element for (index, element) in enumerate(li) if index not in loc]\n",
    "print(li)"
   ]
  },
  {
   "cell_type": "code",
   "execution_count": 2,
   "id": "221fe9ff",
   "metadata": {},
   "outputs": [
    {
     "name": "stdout",
     "output_type": "stream",
     "text": [
      "Enter 10 integers :\n",
      "2\n",
      "3\n",
      "4\n",
      "5\n",
      "6\n",
      "7\n",
      "8\n",
      "9\n",
      "1\n",
      "3\n",
      "[3, 1, 9, 8, 7, 6, 5, 4, 3, 2]\n"
     ]
    }
   ],
   "source": [
    "list = []\n",
    "list2 = []\n",
    "print(\"Enter 10 integers :\")\n",
    "for i in range(0, 10):\n",
    "    b = int(input())\n",
    "    list.append(b)\n",
    "list2 = [list[-i] for i in range(1, len(list)+1)]\n",
    "print(list2)"
   ]
  },
  {
   "cell_type": "code",
   "execution_count": null,
   "id": "852e0fd8",
   "metadata": {},
   "outputs": [],
   "source": []
  }
 ],
 "metadata": {
  "kernelspec": {
   "display_name": "Python 3 (ipykernel)",
   "language": "python",
   "name": "python3"
  },
  "language_info": {
   "codemirror_mode": {
    "name": "ipython",
    "version": 3
   },
   "file_extension": ".py",
   "mimetype": "text/x-python",
   "name": "python",
   "nbconvert_exporter": "python",
   "pygments_lexer": "ipython3",
   "version": "3.9.16"
  }
 },
 "nbformat": 4,
 "nbformat_minor": 5
}
