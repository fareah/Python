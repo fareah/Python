{
 "cells": [
  {
   "cell_type": "code",
   "execution_count": 1,
   "id": "b5fe8f8a",
   "metadata": {},
   "outputs": [
    {
     "name": "stdout",
     "output_type": "stream",
     "text": [
      "Enter a number45\n",
      "56\n"
     ]
    }
   ],
   "source": [
    "a=int(input(\"Enter a number\"))\n",
    "if a<17:\n",
    "    print(int(17-a))\n",
    "else:\n",
    "    print(int(2*abs(17-a)))"
   ]
  },
  {
   "cell_type": "code",
   "execution_count": 2,
   "id": "e6633b83",
   "metadata": {},
   "outputs": [
    {
     "name": "stdout",
     "output_type": "stream",
     "text": [
      "Enter a Year2020\n",
      "The Year 2020 is a LEAP YEAR\n"
     ]
    }
   ],
   "source": [
    "y=int(input(\"Enter a Year\"))\n",
    "if(y % 400 == 0 or (y % 100 !=0 and y % 4 == 0 )):\n",
    "    print(\"The Year {} is a LEAP YEAR\".format(y))\n",
    "else:\n",
    "    print(\"The Year {} is not a LEAP YEAR\".format(y))"
   ]
  },
  {
   "cell_type": "code",
   "execution_count": 3,
   "id": "1b19ac2f",
   "metadata": {},
   "outputs": [
    {
     "name": "stdout",
     "output_type": "stream",
     "text": [
      "Enter Three Numbers 5 4 3\n",
      "The sum is 12\n"
     ]
    }
   ],
   "source": [
    "num1, num2, num3 = (int(x) for x in input(\"Enter Three Numbers \").split())\n",
    "sum = 0\n",
    "if (num1 == num2 or num2 == num3 or num3 == num1):\n",
    "    print(\"The sum is\", sum)\n",
    "else:\n",
    "    sum = num1+num2+num3\n",
    "    print(\"The sum is\", sum)"
   ]
  },
  {
   "cell_type": "code",
   "execution_count": 1,
   "id": "d0660976",
   "metadata": {},
   "outputs": [
    {
     "name": "stdout",
     "output_type": "stream",
     "text": [
      "Input the name of Month: dec\n",
      "No such month name exists\n"
     ]
    }
   ],
   "source": [
    "month_name = input(\"Input the name of Month: \")\n",
    "\n",
    "if (month_name == \"February\"):\n",
    "    print(\"No. of days 28/29 days\")\n",
    "elif (month_name in (\"April\", \"June\", \"September\", \"November\")):\n",
    "    print(\"No. of days 30 days\")\n",
    "elif (month_name in (\"January\", \"March\", \"May\", \"July\", \"August\", \"October\", \"December\")):\n",
    "    print(\"No. of days 31 day\")\n",
    "else:\n",
    "    print(\"No such month name exists\")"
   ]
  },
  {
   "cell_type": "code",
   "execution_count": 2,
   "id": "a7e7027a",
   "metadata": {},
   "outputs": [
    {
     "name": "stdout",
     "output_type": "stream",
     "text": [
      "Input lengths of the triangle sides: \n",
      "x: 5 2 7\n"
     ]
    },
    {
     "ename": "ValueError",
     "evalue": "invalid literal for int() with base 10: '5 2 7'",
     "output_type": "error",
     "traceback": [
      "\u001b[1;31m---------------------------------------------------------------------------\u001b[0m",
      "\u001b[1;31mValueError\u001b[0m                                Traceback (most recent call last)",
      "Cell \u001b[1;32mIn[2], line 2\u001b[0m\n\u001b[0;32m      1\u001b[0m \u001b[38;5;28mprint\u001b[39m(\u001b[38;5;124m\"\u001b[39m\u001b[38;5;124mInput lengths of the triangle sides: \u001b[39m\u001b[38;5;124m\"\u001b[39m)\n\u001b[1;32m----> 2\u001b[0m x \u001b[38;5;241m=\u001b[39m \u001b[38;5;28;43mint\u001b[39;49m\u001b[43m(\u001b[49m\u001b[38;5;28;43minput\u001b[39;49m\u001b[43m(\u001b[49m\u001b[38;5;124;43m\"\u001b[39;49m\u001b[38;5;124;43mx: \u001b[39;49m\u001b[38;5;124;43m\"\u001b[39;49m\u001b[43m)\u001b[49m\u001b[43m)\u001b[49m\n\u001b[0;32m      3\u001b[0m y \u001b[38;5;241m=\u001b[39m \u001b[38;5;28mint\u001b[39m(\u001b[38;5;28minput\u001b[39m(\u001b[38;5;124m\"\u001b[39m\u001b[38;5;124my: \u001b[39m\u001b[38;5;124m\"\u001b[39m))\n\u001b[0;32m      4\u001b[0m z \u001b[38;5;241m=\u001b[39m \u001b[38;5;28mint\u001b[39m(\u001b[38;5;28minput\u001b[39m(\u001b[38;5;124m\"\u001b[39m\u001b[38;5;124mz: \u001b[39m\u001b[38;5;124m\"\u001b[39m))\n",
      "\u001b[1;31mValueError\u001b[0m: invalid literal for int() with base 10: '5 2 7'"
     ]
    }
   ],
   "source": [
    "print(\"Input lengths of the triangle sides: \")\n",
    "x = int(input(\"x: \"))\n",
    "y = int(input(\"y: \"))\n",
    "z = int(input(\"z: \"))\n",
    "\n",
    "if (x == y == z):\n",
    "    print(\"Equilateral triangle\")\n",
    "elif (x == y or y == z or z == x):\n",
    "    print(\"Isosceles triangle\")\n",
    "else:\n",
    "    print(\"Scalene triangle\")"
   ]
  },
  {
   "cell_type": "code",
   "execution_count": null,
   "id": "94a49d2c",
   "metadata": {},
   "outputs": [],
   "source": []
  }
 ],
 "metadata": {
  "kernelspec": {
   "display_name": "Python 3 (ipykernel)",
   "language": "python",
   "name": "python3"
  },
  "language_info": {
   "codemirror_mode": {
    "name": "ipython",
    "version": 3
   },
   "file_extension": ".py",
   "mimetype": "text/x-python",
   "name": "python",
   "nbconvert_exporter": "python",
   "pygments_lexer": "ipython3",
   "version": "3.9.16"
  }
 },
 "nbformat": 4,
 "nbformat_minor": 5
}
